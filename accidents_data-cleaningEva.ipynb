{
 "cells": [
  {
   "cell_type": "markdown",
   "id": "e981dad3",
   "metadata": {},
   "source": [
    "# Car accidents in the US"
   ]
  },
  {
   "cell_type": "code",
   "execution_count": 1,
   "id": "27990754",
   "metadata": {},
   "outputs": [],
   "source": [
    "import pandas as pd\n",
    "import numpy as np\n",
    "import matplotlib.pyplot as plt\n",
    "import seaborn as sns\n",
    "\n",
    "# Show matplotlib's plots in Jupyter notebook\n",
    "%matplotlib inline"
   ]
  },
  {
   "cell_type": "code",
   "execution_count": 2,
   "id": "824b8117",
   "metadata": {},
   "outputs": [],
   "source": [
    "accidents = pd.read_csv('US_Accidents_June20.csv')\n",
    "# parse_dates=['Start_Time', 'End_Time', 'Weather_Timestamp']"
   ]
  },
  {
   "cell_type": "code",
   "execution_count": 3,
   "id": "6ac97f4d",
   "metadata": {},
   "outputs": [
    {
     "data": {
      "text/html": [
       "<div>\n",
       "<style scoped>\n",
       "    .dataframe tbody tr th:only-of-type {\n",
       "        vertical-align: middle;\n",
       "    }\n",
       "\n",
       "    .dataframe tbody tr th {\n",
       "        vertical-align: top;\n",
       "    }\n",
       "\n",
       "    .dataframe thead th {\n",
       "        text-align: right;\n",
       "    }\n",
       "</style>\n",
       "<table border=\"1\" class=\"dataframe\">\n",
       "  <thead>\n",
       "    <tr style=\"text-align: right;\">\n",
       "      <th></th>\n",
       "      <th>ID</th>\n",
       "      <th>Source</th>\n",
       "      <th>TMC</th>\n",
       "      <th>Severity</th>\n",
       "      <th>Start_Time</th>\n",
       "      <th>End_Time</th>\n",
       "      <th>Start_Lat</th>\n",
       "      <th>Start_Lng</th>\n",
       "      <th>End_Lat</th>\n",
       "      <th>End_Lng</th>\n",
       "      <th>...</th>\n",
       "      <th>Roundabout</th>\n",
       "      <th>Station</th>\n",
       "      <th>Stop</th>\n",
       "      <th>Traffic_Calming</th>\n",
       "      <th>Traffic_Signal</th>\n",
       "      <th>Turning_Loop</th>\n",
       "      <th>Sunrise_Sunset</th>\n",
       "      <th>Civil_Twilight</th>\n",
       "      <th>Nautical_Twilight</th>\n",
       "      <th>Astronomical_Twilight</th>\n",
       "    </tr>\n",
       "  </thead>\n",
       "  <tbody>\n",
       "    <tr>\n",
       "      <th>0</th>\n",
       "      <td>A-1</td>\n",
       "      <td>MapQuest</td>\n",
       "      <td>201.0</td>\n",
       "      <td>3</td>\n",
       "      <td>2016-02-08 05:46:00</td>\n",
       "      <td>2016-02-08 11:00:00</td>\n",
       "      <td>39.865147</td>\n",
       "      <td>-84.058723</td>\n",
       "      <td>NaN</td>\n",
       "      <td>NaN</td>\n",
       "      <td>...</td>\n",
       "      <td>False</td>\n",
       "      <td>False</td>\n",
       "      <td>False</td>\n",
       "      <td>False</td>\n",
       "      <td>False</td>\n",
       "      <td>False</td>\n",
       "      <td>Night</td>\n",
       "      <td>Night</td>\n",
       "      <td>Night</td>\n",
       "      <td>Night</td>\n",
       "    </tr>\n",
       "    <tr>\n",
       "      <th>1</th>\n",
       "      <td>A-2</td>\n",
       "      <td>MapQuest</td>\n",
       "      <td>201.0</td>\n",
       "      <td>2</td>\n",
       "      <td>2016-02-08 06:07:59</td>\n",
       "      <td>2016-02-08 06:37:59</td>\n",
       "      <td>39.928059</td>\n",
       "      <td>-82.831184</td>\n",
       "      <td>NaN</td>\n",
       "      <td>NaN</td>\n",
       "      <td>...</td>\n",
       "      <td>False</td>\n",
       "      <td>False</td>\n",
       "      <td>False</td>\n",
       "      <td>False</td>\n",
       "      <td>False</td>\n",
       "      <td>False</td>\n",
       "      <td>Night</td>\n",
       "      <td>Night</td>\n",
       "      <td>Night</td>\n",
       "      <td>Day</td>\n",
       "    </tr>\n",
       "    <tr>\n",
       "      <th>2</th>\n",
       "      <td>A-3</td>\n",
       "      <td>MapQuest</td>\n",
       "      <td>201.0</td>\n",
       "      <td>2</td>\n",
       "      <td>2016-02-08 06:49:27</td>\n",
       "      <td>2016-02-08 07:19:27</td>\n",
       "      <td>39.063148</td>\n",
       "      <td>-84.032608</td>\n",
       "      <td>NaN</td>\n",
       "      <td>NaN</td>\n",
       "      <td>...</td>\n",
       "      <td>False</td>\n",
       "      <td>False</td>\n",
       "      <td>False</td>\n",
       "      <td>False</td>\n",
       "      <td>True</td>\n",
       "      <td>False</td>\n",
       "      <td>Night</td>\n",
       "      <td>Night</td>\n",
       "      <td>Day</td>\n",
       "      <td>Day</td>\n",
       "    </tr>\n",
       "    <tr>\n",
       "      <th>3</th>\n",
       "      <td>A-4</td>\n",
       "      <td>MapQuest</td>\n",
       "      <td>201.0</td>\n",
       "      <td>3</td>\n",
       "      <td>2016-02-08 07:23:34</td>\n",
       "      <td>2016-02-08 07:53:34</td>\n",
       "      <td>39.747753</td>\n",
       "      <td>-84.205582</td>\n",
       "      <td>NaN</td>\n",
       "      <td>NaN</td>\n",
       "      <td>...</td>\n",
       "      <td>False</td>\n",
       "      <td>False</td>\n",
       "      <td>False</td>\n",
       "      <td>False</td>\n",
       "      <td>False</td>\n",
       "      <td>False</td>\n",
       "      <td>Night</td>\n",
       "      <td>Day</td>\n",
       "      <td>Day</td>\n",
       "      <td>Day</td>\n",
       "    </tr>\n",
       "    <tr>\n",
       "      <th>4</th>\n",
       "      <td>A-5</td>\n",
       "      <td>MapQuest</td>\n",
       "      <td>201.0</td>\n",
       "      <td>2</td>\n",
       "      <td>2016-02-08 07:39:07</td>\n",
       "      <td>2016-02-08 08:09:07</td>\n",
       "      <td>39.627781</td>\n",
       "      <td>-84.188354</td>\n",
       "      <td>NaN</td>\n",
       "      <td>NaN</td>\n",
       "      <td>...</td>\n",
       "      <td>False</td>\n",
       "      <td>False</td>\n",
       "      <td>False</td>\n",
       "      <td>False</td>\n",
       "      <td>True</td>\n",
       "      <td>False</td>\n",
       "      <td>Day</td>\n",
       "      <td>Day</td>\n",
       "      <td>Day</td>\n",
       "      <td>Day</td>\n",
       "    </tr>\n",
       "  </tbody>\n",
       "</table>\n",
       "<p>5 rows × 49 columns</p>\n",
       "</div>"
      ],
      "text/plain": [
       "    ID    Source    TMC  Severity           Start_Time             End_Time  \\\n",
       "0  A-1  MapQuest  201.0         3  2016-02-08 05:46:00  2016-02-08 11:00:00   \n",
       "1  A-2  MapQuest  201.0         2  2016-02-08 06:07:59  2016-02-08 06:37:59   \n",
       "2  A-3  MapQuest  201.0         2  2016-02-08 06:49:27  2016-02-08 07:19:27   \n",
       "3  A-4  MapQuest  201.0         3  2016-02-08 07:23:34  2016-02-08 07:53:34   \n",
       "4  A-5  MapQuest  201.0         2  2016-02-08 07:39:07  2016-02-08 08:09:07   \n",
       "\n",
       "   Start_Lat  Start_Lng  End_Lat  End_Lng  ...  Roundabout Station   Stop  \\\n",
       "0  39.865147 -84.058723      NaN      NaN  ...       False   False  False   \n",
       "1  39.928059 -82.831184      NaN      NaN  ...       False   False  False   \n",
       "2  39.063148 -84.032608      NaN      NaN  ...       False   False  False   \n",
       "3  39.747753 -84.205582      NaN      NaN  ...       False   False  False   \n",
       "4  39.627781 -84.188354      NaN      NaN  ...       False   False  False   \n",
       "\n",
       "  Traffic_Calming Traffic_Signal Turning_Loop Sunrise_Sunset Civil_Twilight  \\\n",
       "0           False          False        False          Night          Night   \n",
       "1           False          False        False          Night          Night   \n",
       "2           False           True        False          Night          Night   \n",
       "3           False          False        False          Night            Day   \n",
       "4           False           True        False            Day            Day   \n",
       "\n",
       "  Nautical_Twilight Astronomical_Twilight  \n",
       "0             Night                 Night  \n",
       "1             Night                   Day  \n",
       "2               Day                   Day  \n",
       "3               Day                   Day  \n",
       "4               Day                   Day  \n",
       "\n",
       "[5 rows x 49 columns]"
      ]
     },
     "execution_count": 3,
     "metadata": {},
     "output_type": "execute_result"
    }
   ],
   "source": [
    "accidents.head()"
   ]
  },
  {
   "cell_type": "code",
   "execution_count": 4,
   "id": "53137f71",
   "metadata": {},
   "outputs": [
    {
     "name": "stdout",
     "output_type": "stream",
     "text": [
      "<class 'pandas.core.frame.DataFrame'>\n",
      "RangeIndex: 3513617 entries, 0 to 3513616\n",
      "Data columns (total 49 columns):\n",
      " #   Column                 Dtype  \n",
      "---  ------                 -----  \n",
      " 0   ID                     object \n",
      " 1   Source                 object \n",
      " 2   TMC                    float64\n",
      " 3   Severity               int64  \n",
      " 4   Start_Time             object \n",
      " 5   End_Time               object \n",
      " 6   Start_Lat              float64\n",
      " 7   Start_Lng              float64\n",
      " 8   End_Lat                float64\n",
      " 9   End_Lng                float64\n",
      " 10  Distance(mi)           float64\n",
      " 11  Description            object \n",
      " 12  Number                 float64\n",
      " 13  Street                 object \n",
      " 14  Side                   object \n",
      " 15  City                   object \n",
      " 16  County                 object \n",
      " 17  State                  object \n",
      " 18  Zipcode                object \n",
      " 19  Country                object \n",
      " 20  Timezone               object \n",
      " 21  Airport_Code           object \n",
      " 22  Weather_Timestamp      object \n",
      " 23  Temperature(F)         float64\n",
      " 24  Wind_Chill(F)          float64\n",
      " 25  Humidity(%)            float64\n",
      " 26  Pressure(in)           float64\n",
      " 27  Visibility(mi)         float64\n",
      " 28  Wind_Direction         object \n",
      " 29  Wind_Speed(mph)        float64\n",
      " 30  Precipitation(in)      float64\n",
      " 31  Weather_Condition      object \n",
      " 32  Amenity                bool   \n",
      " 33  Bump                   bool   \n",
      " 34  Crossing               bool   \n",
      " 35  Give_Way               bool   \n",
      " 36  Junction               bool   \n",
      " 37  No_Exit                bool   \n",
      " 38  Railway                bool   \n",
      " 39  Roundabout             bool   \n",
      " 40  Station                bool   \n",
      " 41  Stop                   bool   \n",
      " 42  Traffic_Calming        bool   \n",
      " 43  Traffic_Signal         bool   \n",
      " 44  Turning_Loop           bool   \n",
      " 45  Sunrise_Sunset         object \n",
      " 46  Civil_Twilight         object \n",
      " 47  Nautical_Twilight      object \n",
      " 48  Astronomical_Twilight  object \n",
      "dtypes: bool(13), float64(14), int64(1), object(21)\n",
      "memory usage: 1008.6+ MB\n"
     ]
    }
   ],
   "source": [
    "accidents.info()\n",
    "# size: 1008.6+ MB"
   ]
  },
  {
   "cell_type": "markdown",
   "id": "b77e5e4e",
   "metadata": {},
   "source": [
    "# Duplicate values"
   ]
  },
  {
   "cell_type": "code",
   "execution_count": 5,
   "id": "2db151ff",
   "metadata": {},
   "outputs": [],
   "source": [
    "accidents = accidents.drop_duplicates(subset=['Zipcode', 'Start_Time', 'End_Time'], keep='first')\n",
    "\n",
    "# originele dataframe 3.513.617 rijen\n",
    "# met deze dropped rijen 3.454.567 rows "
   ]
  },
  {
   "cell_type": "markdown",
   "id": "83c33430",
   "metadata": {},
   "source": [
    "# Data types\n",
    "check:\n",
    "- [X] unieke values of ook rare waarden\n",
    "- [X] missing values\n",
    " \n",
    "33 - Bump                  - bool  - Schoon, alleen True en False\\\n",
    "34 - Crossing              - bool  - Schoon, alleen True en False\\\n",
    "35 - Give_Way              - bool  - Schoon, alleen True en False\\\n",
    "36 - Junction              - bool  - Schoon, alleen True en False\\\n",
    "37 - No_Exit               - bool  - Schoon, alleen True en False\\\n",
    "38 - Railway               - bool  - Schoon, alleen True en False\\\n",
    "39 - Roundabout            - bool  - Schoon, alleen True en False\\\n",
    "40 - Station               - bool  - Schoon, alleen True en False\\\n",
    "41 - Stop                  - bool  - Schoon, alleen True en False\\\n",
    "42 - Traffic_Calming       - bool  - Schoon, alleen True en False\\\n",
    "43 - Traffic_Signal        - bool  - Schoon, alleen True en False\\\n",
    "44 - Turning_Loop          - bool  - Alleen False --> verwijder variabele\\\n",
    "45 - Sunrise_Sunset        - object  - Night, Day, nan\\\n",
    "46 - Civil_Twilight        - object  - Night, Day, nan\\\n",
    "47 - Nautical_Twilight     - object  - Night, Day, nan\\\n",
    "48 - Astronomical_Twilight - object  - Night, Day, nan"
   ]
  },
  {
   "cell_type": "code",
   "execution_count": 6,
   "id": "e92f1b9a",
   "metadata": {},
   "outputs": [],
   "source": [
    "#accidents_df['Severity'].unique()"
   ]
  },
  {
   "cell_type": "code",
   "execution_count": 7,
   "id": "ff3f8158",
   "metadata": {},
   "outputs": [],
   "source": [
    "# Change Severity to a category datatype.\n",
    "#accidents['Severity'] = accidents['Severity'].astype('category')"
   ]
  },
  {
   "cell_type": "markdown",
   "id": "ca3966cf",
   "metadata": {},
   "source": [
    "#### Difference start time and end time"
   ]
  },
  {
   "cell_type": "code",
   "execution_count": 8,
   "id": "a1661852",
   "metadata": {},
   "outputs": [],
   "source": [
    "# Change Start_Time and End_Time to date-time variables\n",
    "accidents['Start_Time'] = pd.to_datetime(accidents['Start_Time'])\n",
    "accidents['End_Time'] = pd.to_datetime(accidents['End_Time'])\n",
    "accidents['Weather_Timestamp'] = pd.to_datetime(accidents['Weather_Timestamp'])"
   ]
  },
  {
   "cell_type": "code",
   "execution_count": 9,
   "id": "79a964f2",
   "metadata": {},
   "outputs": [],
   "source": [
    "# Create a new variable that measures total time of the accident. \n",
    "total_time = accidents['End_Time'] - accidents['Start_Time']\n",
    "\n",
    "accidents.insert(loc=6, column='Total_Time', value=total_time)"
   ]
  },
  {
   "cell_type": "code",
   "execution_count": 10,
   "id": "a9d54711",
   "metadata": {},
   "outputs": [],
   "source": [
    "#min(total_time)\n",
    "#   '-1 days +23:25:55'\n",
    "#max(total_time)\n",
    "#   '987 days 11:15:29'\n",
    "\n",
    "\n",
    "#accidents[accidents['Total_Time']>'30 days'].head()\n",
    "#   22 rows waarbij de total time minder dan 0 is. \n",
    "#   Severity 2 en 3. \n",
    "\n",
    "#   326 rows waarbij de total time groter dan 30 dagen is.\n",
    "#   Severity 2-3-4 (1 niet zichtbaar maar mogelijk wel erin)."
   ]
  },
  {
   "cell_type": "code",
   "execution_count": 11,
   "id": "d7ba5b73",
   "metadata": {},
   "outputs": [],
   "source": [
    "# Drop all 22 rows where total time is less than 0\n",
    "accidents = accidents[accidents['Total_Time']>'0']"
   ]
  },
  {
   "cell_type": "code",
   "execution_count": 12,
   "id": "630baafc",
   "metadata": {},
   "outputs": [],
   "source": [
    "# Create a new variable that changes total time of the accident to hours\n",
    "my_list=[]\n",
    "\n",
    "for obj in accidents['Total_Time']:\n",
    "    my_list.append(int((obj.total_seconds())/60/60))  #Take the seconds of the deltatime object, then /60/60 to get hours\n",
    "                \n",
    "        \n",
    "my_list\n",
    "\n",
    "# Save as a new column in the data frame\n",
    "#accidents.insert(loc=7, column='Total_Time_H', value=pd.Series(my_list))\n",
    "accidents['Total_Time_H'] = my_list"
   ]
  },
  {
   "cell_type": "code",
   "execution_count": 13,
   "id": "fc9de39b",
   "metadata": {},
   "outputs": [
    {
     "data": {
      "text/plain": [
       "count    3.454545e+06\n",
       "mean     1.304805e+00\n",
       "std      4.694197e+01\n",
       "min      0.000000e+00\n",
       "25%      0.000000e+00\n",
       "50%      0.000000e+00\n",
       "75%      1.000000e+00\n",
       "max      2.369900e+04\n",
       "Name: Total_Time_H, dtype: float64"
      ]
     },
     "execution_count": 13,
     "metadata": {},
     "output_type": "execute_result"
    }
   ],
   "source": [
    "accidents['Total_Time_H'].describe()"
   ]
  },
  {
   "cell_type": "code",
   "execution_count": 14,
   "id": "8ffa6797",
   "metadata": {},
   "outputs": [
    {
     "data": {
      "text/plain": [
       "0"
      ]
     },
     "execution_count": 14,
     "metadata": {},
     "output_type": "execute_result"
    }
   ],
   "source": [
    "accidents['Total_Time_H'].isnull().sum()"
   ]
  },
  {
   "cell_type": "markdown",
   "id": "4f105423",
   "metadata": {},
   "source": [
    "#### Year of the accident"
   ]
  },
  {
   "cell_type": "code",
   "execution_count": 15,
   "id": "4891e733",
   "metadata": {},
   "outputs": [],
   "source": [
    "# Create a new variable for the year of the accidents (based off start year)\n",
    "my_list=[]\n",
    "for obj in accidents['Start_Time']:\n",
    "    my_list.append(obj.year)\n",
    "my_list\n",
    "\n",
    "accidents.insert(loc=8, column='Year', value=my_list)"
   ]
  },
  {
   "cell_type": "markdown",
   "id": "8e8384e3",
   "metadata": {},
   "source": [
    "#### Month of the accident"
   ]
  },
  {
   "cell_type": "code",
   "execution_count": 16,
   "id": "52f0d204",
   "metadata": {},
   "outputs": [],
   "source": [
    "# Create a new variable for the year of the accidents (based off start year)\n",
    "my_list=[]\n",
    "for obj in accidents['Start_Time']:\n",
    "    my_list.append(obj.month)\n",
    "my_list\n",
    "\n",
    "accidents.insert(loc=8, column='Month', value=my_list)"
   ]
  },
  {
   "cell_type": "code",
   "execution_count": 17,
   "id": "d66037ce",
   "metadata": {},
   "outputs": [],
   "source": [
    "accidents['Month'] = accidents['Month'].astype('category')"
   ]
  },
  {
   "cell_type": "markdown",
   "id": "13efa437",
   "metadata": {},
   "source": [
    "#### Hour of the day of the accident (based on Start_Time)"
   ]
  },
  {
   "cell_type": "code",
   "execution_count": 18,
   "id": "09d897b1",
   "metadata": {},
   "outputs": [],
   "source": [
    "# Create a new variable for the year of the accidents (based off start year)\n",
    "my_list=[]\n",
    "for obj in accidents['Start_Time']:\n",
    "    my_list.append(obj.hour)\n",
    "my_list\n",
    "\n",
    "accidents.insert(loc=8, column='Hour', value=my_list)"
   ]
  },
  {
   "cell_type": "code",
   "execution_count": 19,
   "id": "e5312027",
   "metadata": {},
   "outputs": [],
   "source": [
    "# Create a new variable for the year of the accidents (based off start year)\n",
    "#my_list=[]\n",
    "#for obj in accidents['Start_Time']:\n",
    "#    new = obj.strftime(format='%H:%M')\n",
    "#    my_list.append(new)\n",
    "#my_list\n",
    "\n",
    "#accidents.insert(loc=8, column='Time', value=my_list)"
   ]
  },
  {
   "cell_type": "markdown",
   "id": "feafe75b",
   "metadata": {},
   "source": [
    "#### Day of the week"
   ]
  },
  {
   "cell_type": "code",
   "execution_count": 20,
   "id": "1732b3db",
   "metadata": {},
   "outputs": [],
   "source": [
    "# Create a new variable for the day of the week of the accident. The day of the week with Monday=0, Sunday=6.\n",
    "weekday = accidents['Start_Time'].dt.weekday\n",
    "\n",
    "# turn the weekday into strings instead of integers\n",
    "my_list = []\n",
    "\n",
    "for day in weekday:\n",
    "    if day == 0:\n",
    "        my_list.append('monday')\n",
    "    elif day == 1:\n",
    "        my_list.append('tuesday')\n",
    "    elif day == 2:\n",
    "        my_list.append('wednesday')\n",
    "    elif day == 3:\n",
    "        my_list.append('thursday')\n",
    "    elif day == 4:\n",
    "        my_list.append('friday')\n",
    "    elif day == 5:\n",
    "        my_list.append('saturday')\n",
    "    elif day == 6:\n",
    "        my_list.append('sunday')\n",
    "\n",
    "weekday = pd.Series(my_list)\n",
    "\n",
    "accidents.insert(loc=9, column='Weekday', value=weekday)"
   ]
  },
  {
   "cell_type": "code",
   "execution_count": 21,
   "id": "2a8d1c9b",
   "metadata": {},
   "outputs": [],
   "source": [
    "accidents['Weekday'] = accidents['Weekday'].astype('category')"
   ]
  },
  {
   "cell_type": "markdown",
   "id": "7137744a",
   "metadata": {},
   "source": [
    "#### Season of the accident"
   ]
  },
  {
   "cell_type": "code",
   "execution_count": 22,
   "id": "267c58cd",
   "metadata": {},
   "outputs": [],
   "source": [
    "# get season from the dates. Months 1-3 are winter, 4-6 are spring, etc.\n",
    "my_list=[]\n",
    "\n",
    "for date in accidents['Start_Time']:\n",
    "    if date.month <= 3:\n",
    "        season = 'winter'\n",
    "    elif (date.month >= 4) & (date.month <= 6):\n",
    "        season = 'spring'\n",
    "    elif (date.month >= 7) & (date.month <= 9):\n",
    "        season = 'summer'\n",
    "    elif (date.month >= 10) & (date.month <= 12):\n",
    "        season = 'fall'\n",
    "    else:\n",
    "        season = 'nothing???'\n",
    "    my_list.append(season)\n",
    "\n",
    "season = pd.Series(my_list)\n",
    "#season.value_counts()\n",
    "\n",
    "accidents.insert(loc=10, column='Season', value=season)"
   ]
  },
  {
   "cell_type": "markdown",
   "id": "77b453af",
   "metadata": {},
   "source": [
    "#### Create a new value for the sunset_sunrise: dusk/twilight\n",
    "Create a new value for dusk/twilight using the other light columns. Vision is limited during twilight compared to during the day, but vision is better than during the night. "
   ]
  },
  {
   "cell_type": "code",
   "execution_count": 23,
   "id": "2b71a812",
   "metadata": {},
   "outputs": [],
   "source": [
    "light = []\n",
    "error = 0\n",
    "\n",
    "for i, value in accidents['Sunrise_Sunset'].items():\n",
    "    if value == 'Day':\n",
    "        light.append('Day')\n",
    "    elif value == 'Night':\n",
    "        if accidents['Astronomical_Twilight'].loc[i] == 'Day':\n",
    "            light.append('Twilight')\n",
    "        elif accidents['Astronomical_Twilight'].loc[i] == 'Night':\n",
    "            light.append('Night')\n",
    "    else:\n",
    "        error += 1\n",
    "        light.append(float('NaN'))\n",
    "        # during nan values? count number of errors \n",
    "        \n",
    "# Create a new variable in 'accidents' dataframe\n",
    "accidents['Light'] = light"
   ]
  },
  {
   "cell_type": "code",
   "execution_count": 114,
   "id": "2c26ea12",
   "metadata": {},
   "outputs": [
    {
     "data": {
      "text/plain": [
       "109"
      ]
     },
     "execution_count": 114,
     "metadata": {},
     "output_type": "execute_result"
    }
   ],
   "source": [
    "error\n",
    "accidents['Light'].isna().sum()"
   ]
  },
  {
   "cell_type": "code",
   "execution_count": 24,
   "id": "e8faf16d",
   "metadata": {},
   "outputs": [],
   "source": [
    "# Drop the other light columns\n",
    "#accidents = accidents.drop(['Sunrise_Sunset', 'Civil_Twilight', 'Nautical_Twilight', 'Astronomical_Twilight'],\n",
    "#                          axis=1)"
   ]
  },
  {
   "cell_type": "markdown",
   "id": "b06d8df8",
   "metadata": {},
   "source": [
    "#### Create a new column: total number of obstructions reported. "
   ]
  },
  {
   "cell_type": "code",
   "execution_count": 25,
   "id": "b5e64412",
   "metadata": {},
   "outputs": [],
   "source": [
    "# dit kan makkelijker mischien door de lijst in te vullen, dan heb je niet al de herhalingen onderin.\n",
    "obst = ['Bump', 'Crossing', 'Give_Way', 'Junction', 'No_Exit', 'Railway', 'Roundabout',\n",
    "        'Station', 'Stop', 'Traffic_Calming', 'Traffic_Signal']\n",
    "\n",
    "def equals_true(series):\n",
    "    my_list=[]\n",
    "    for x in series:\n",
    "        if x == True:\n",
    "            my_list.append(1)\n",
    "        else:\n",
    "            my_list.append(0)\n",
    "            \n",
    "    # list_of_series:\n",
    "    \n",
    "    return pd.Series(my_list)\n",
    "        \n",
    "obst_bump = equals_true(accidents['Bump'])\n",
    "obst_cros = equals_true(accidents['Crossing'])\n",
    "obst_give = equals_true(accidents['Give_Way'])\n",
    "obst_junc = equals_true(accidents['Junction'])\n",
    "obst_noex = equals_true(accidents['No_Exit'])\n",
    "obst_rail = equals_true(accidents['Railway'])\n",
    "obst_roun = equals_true(accidents['Roundabout'])\n",
    "obst_stat = equals_true(accidents['Station'])\n",
    "obst_stop = equals_true(accidents['Stop'])\n",
    "obst_tr_c = equals_true(accidents['Traffic_Calming'])\n",
    "obst_tr_s = equals_true(accidents['Traffic_Signal'])\n",
    "\n",
    "n_obst = (obst_bump + obst_cros + obst_give + obst_junc + obst_noex + obst_rail +\n",
    "          obst_roun+ obst_stat + obst_stop + obst_tr_c + obst_tr_s)"
   ]
  },
  {
   "cell_type": "code",
   "execution_count": 26,
   "id": "eb831b90",
   "metadata": {},
   "outputs": [],
   "source": [
    "accidents['Total_Obstr'] = n_obst"
   ]
  },
  {
   "cell_type": "markdown",
   "id": "df496a25",
   "metadata": {},
   "source": [
    "#### Create a new column: no obstructions reported"
   ]
  },
  {
   "cell_type": "code",
   "execution_count": 27,
   "id": "9d425e08",
   "metadata": {},
   "outputs": [],
   "source": [
    "zero_obstr = []\n",
    "\n",
    "for value in n_obst:\n",
    "    if value == 0:\n",
    "        zero_obstr.append(True)\n",
    "    else:\n",
    "        zero_obstr.append(False)"
   ]
  },
  {
   "cell_type": "code",
   "execution_count": 28,
   "id": "9eefb4cc",
   "metadata": {},
   "outputs": [],
   "source": [
    "accidents['No_Obstr'] = my_list"
   ]
  },
  {
   "cell_type": "markdown",
   "id": "02bd8d90",
   "metadata": {},
   "source": [
    "#### Drop rows where the weather information was recorded >1 hour before or after the accident"
   ]
  },
  {
   "cell_type": "code",
   "execution_count": 29,
   "id": "9b75fad8",
   "metadata": {},
   "outputs": [],
   "source": [
    "# Ilse \n",
    "accidents[\"Diff_h_wt\"] = accidents[\"Start_Time\"] - accidents[\"Weather_Timestamp\"] \n",
    "accidents[\"Diff_h_wt\"] = accidents[\"Diff_h_wt\"] / pd.Timedelta(hours=1)\n",
    "accidents = accidents.drop(accidents[(accidents.Diff_h_wt < -1)].index)\n",
    "accidents = accidents.drop(accidents[(accidents.Diff_h_wt > 1)].index)"
   ]
  },
  {
   "cell_type": "code",
   "execution_count": 31,
   "id": "9fb2ff4a",
   "metadata": {},
   "outputs": [],
   "source": [
    "accidents['Season'] = accidents['Season'].astype('category')"
   ]
  },
  {
   "cell_type": "code",
   "execution_count": 30,
   "id": "45e9ce3c",
   "metadata": {},
   "outputs": [],
   "source": []
  },
  {
   "cell_type": "code",
   "execution_count": null,
   "id": "6812a34b",
   "metadata": {},
   "outputs": [],
   "source": []
  },
  {
   "cell_type": "code",
   "execution_count": null,
   "id": "7da5aed9",
   "metadata": {},
   "outputs": [],
   "source": []
  },
  {
   "cell_type": "code",
   "execution_count": null,
   "id": "58af67fb",
   "metadata": {},
   "outputs": [],
   "source": []
  },
  {
   "cell_type": "code",
   "execution_count": null,
   "id": "6197c58a",
   "metadata": {},
   "outputs": [],
   "source": []
  },
  {
   "cell_type": "code",
   "execution_count": null,
   "id": "2fa7b829",
   "metadata": {},
   "outputs": [],
   "source": []
  },
  {
   "cell_type": "code",
   "execution_count": null,
   "id": "b68362e3",
   "metadata": {},
   "outputs": [],
   "source": []
  },
  {
   "cell_type": "code",
   "execution_count": null,
   "id": "6e857588",
   "metadata": {},
   "outputs": [],
   "source": []
  }
 ],
 "metadata": {
  "kernelspec": {
   "display_name": "Python 3 (ipykernel)",
   "language": "python",
   "name": "python3"
  },
  "language_info": {
   "codemirror_mode": {
    "name": "ipython",
    "version": 3
   },
   "file_extension": ".py",
   "mimetype": "text/x-python",
   "name": "python",
   "nbconvert_exporter": "python",
   "pygments_lexer": "ipython3",
   "version": "3.10.6"
  }
 },
 "nbformat": 4,
 "nbformat_minor": 5
}
